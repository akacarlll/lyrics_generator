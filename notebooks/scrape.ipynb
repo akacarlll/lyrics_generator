{
 "cells": [
  {
   "cell_type": "code",
   "execution_count": 3,
   "metadata": {},
   "outputs": [],
   "source": [
    "import requests\n",
    "from bs4 import BeautifulSoup\n",
    "import re\n",
    "import sys\n",
    "import os\n",
    "\n",
    "scraping_path = os.path.abspath(r'C:\\Users\\carlf\\Documents\\GitHub\\lyrics_generator\\scraping')\n",
    "sys.path.append(scraping_path)\n",
    "\n",
    "# Importer la fonction du fichier scrapping_wiki.py\n",
    "from scrapping_wiki import clean_texts\n",
    "\n",
    "x = clean_texts()"
   ]
  },
  {
   "cell_type": "code",
   "execution_count": 71,
   "metadata": {},
   "outputs": [
    {
     "name": "stdout",
     "output_type": "stream",
     "text": [
      "['Youv Dee', 'Jean-Pascal Zadi', 'Zed (rappeur)', 'Sofiane Zermani', 'Darryl Zeuja', 'Zuukou Mayzie']\n"
     ]
    }
   ],
   "source": [
    "def remove_elements_before(lst, target):\n",
    "    if target in lst:\n",
    "        index = lst.index(target)  # Trouve l'index de l'élément cible\n",
    "        return lst[index:]         # Garde uniquement les éléments à partir de cet index\n",
    "    else:\n",
    "        return lst                 # Si la cible n'est pas dans la liste, retourne la liste d'origine\n",
    "\n",
    "z = remove_elements_before(x, 'Youv Dee')\n",
    "print(z)"
   ]
  },
  {
   "cell_type": "markdown",
   "metadata": {},
   "source": []
  },
  {
   "cell_type": "code",
   "execution_count": 12,
   "metadata": {},
   "outputs": [
    {
     "name": "stdout",
     "output_type": "stream",
     "text": [
      "14 14\n"
     ]
    }
   ],
   "source": [
    "z = [\"Alonzo\", \"Axiom\",\"Jacky__BenJ\",\"Eppsito\",\"9Jared\",\"Black_Kent\",\"Daddy_Lord_C\",\"DJ_Dee_Nasty\",\"Favé_FRA\", \"Maes\", \"Anthony_Kazadi\", \"Gato_da_Bato\",\"Akhenaton__Shurikn\", \"Zola_Nzuzi\", \"Sopra_Mbaba\"]\n",
    "new_artists = [\"Alonzo\", \"Axiom\", \"Neg'Marrons\", \"Benjamin Epps\", \"Big Red\", \"Black Kent\", \"Daddy Lord C\", \"Dee Nasty\", \"Favé\",\"Maes\",\"Kaza\",\"Gato\", \"IAM\",\"Zola\", \"Soprano\" ]\n",
    "\n",
    "print(len(z), len(new_artists))"
   ]
  },
  {
   "cell_type": "code",
   "execution_count": 27,
   "metadata": {},
   "outputs": [],
   "source": [
    "import pandas as pd \n",
    "for artist in z:\n",
    "    file_name = fr'data\\01_raw\\{artist}_songs.csv'  # Nom du fichier CSV (format : artist_songs.csv)\n",
    "    df = pd.read_csv(file_name)\n",
    "    if \"GeniusName.1\" in df.columns:\n",
    "        df = df.drop(columns=\"GeniusName.1\")\n",
    "    if \"GeniusName.2\" in df.columns:\n",
    "        df = df.drop(columns=\"GeniusName.2\")\n",
    "    \n",
    "    if \"GeniusName.3\" in df.columns:\n",
    "        df = df.drop(columns=\"GeniusName.3\")\n",
    "        \n",
    "    df.to_csv(f'data/01_raw/{artist}_songs.csv', index=False)\n",
    "\n",
    "    "
   ]
  },
  {
   "cell_type": "code",
   "execution_count": 4,
   "metadata": {},
   "outputs": [],
   "source": [
    "import pandas as pd\n",
    "for artist, new_artist in zip(z, new_artists):\n",
    "    # Charger le DataFrame à partir du fichier CSV\n",
    "    file_name = fr'data\\01_raw\\{artist}_songs.csv'  # Nom du fichier CSV (format : artist_songs.csv)\n",
    "    df = pd.read_csv(file_name)\n",
    "    \n",
    "    # Modifier le nom de la colonne 'Artist' en 'GeniusName'\n",
    "    df = df.rename(columns={'Artist': 'GeniusName'})\n",
    "    \n",
    "    # Ajouter la colonne avec le nouveau nom de l'artiste\n",
    "    df['Artist'] = new_artist\n",
    "    \n",
    "    # Sauvegarder les modifications dans un nouveau fichier CSV ou écraser l'existant\n",
    "    df.to_csv(file_name, index=False)"
   ]
  },
  {
   "cell_type": "code",
   "execution_count": 5,
   "metadata": {},
   "outputs": [],
   "source": [
    "z= [\"Rohff\"]"
   ]
  },
  {
   "cell_type": "markdown",
   "metadata": {},
   "source": [
    "## Second method we used (no scrape just apis call)"
   ]
  },
  {
   "cell_type": "code",
   "execution_count": 6,
   "metadata": {},
   "outputs": [
    {
     "name": "stdout",
     "output_type": "stream",
     "text": [
      "Récupération des données pour : Rohff\n",
      "Searching for songs by Rohff...\n",
      "\n"
     ]
    },
    {
     "ename": "HTTPError",
     "evalue": "[Errno 403] 403 Client Error: Forbidden for url: https://genius.com/api/search/multi?q=Rohff",
     "output_type": "error",
     "traceback": [
      "\u001b[1;31m---------------------------------------------------------------------------\u001b[0m",
      "\u001b[1;31mHTTPError\u001b[0m                                 Traceback (most recent call last)",
      "File \u001b[1;32mc:\\Users\\carlf\\anaconda3\\envs\\lyrics_genius\\Lib\\site-packages\\lyricsgenius\\api\\base.py:80\u001b[0m, in \u001b[0;36mSender._make_request\u001b[1;34m(self, path, method, params_, public_api, web, **kwargs)\u001b[0m\n\u001b[0;32m     75\u001b[0m     response \u001b[38;5;241m=\u001b[39m \u001b[38;5;28mself\u001b[39m\u001b[38;5;241m.\u001b[39m_session\u001b[38;5;241m.\u001b[39mrequest(method, uri,\n\u001b[0;32m     76\u001b[0m                                      timeout\u001b[38;5;241m=\u001b[39m\u001b[38;5;28mself\u001b[39m\u001b[38;5;241m.\u001b[39mtimeout,\n\u001b[0;32m     77\u001b[0m                                      params\u001b[38;5;241m=\u001b[39mparams_,\n\u001b[0;32m     78\u001b[0m                                      headers\u001b[38;5;241m=\u001b[39mheader,\n\u001b[0;32m     79\u001b[0m                                      \u001b[38;5;241m*\u001b[39m\u001b[38;5;241m*\u001b[39mkwargs)\n\u001b[1;32m---> 80\u001b[0m     response\u001b[38;5;241m.\u001b[39mraise_for_status()\n\u001b[0;32m     81\u001b[0m \u001b[38;5;28;01mexcept\u001b[39;00m Timeout \u001b[38;5;28;01mas\u001b[39;00m e:\n",
      "File \u001b[1;32mc:\\Users\\carlf\\anaconda3\\envs\\lyrics_genius\\Lib\\site-packages\\requests\\models.py:1024\u001b[0m, in \u001b[0;36mResponse.raise_for_status\u001b[1;34m(self)\u001b[0m\n\u001b[0;32m   1023\u001b[0m \u001b[38;5;28;01mif\u001b[39;00m http_error_msg:\n\u001b[1;32m-> 1024\u001b[0m     \u001b[38;5;28;01mraise\u001b[39;00m HTTPError(http_error_msg, response\u001b[38;5;241m=\u001b[39m\u001b[38;5;28mself\u001b[39m)\n",
      "\u001b[1;31mHTTPError\u001b[0m: 403 Client Error: Forbidden for url: https://genius.com/api/search/multi?q=Rohff",
      "\nThe above exception was the direct cause of the following exception:\n",
      "\u001b[1;31mHTTPError\u001b[0m                                 Traceback (most recent call last)",
      "Cell \u001b[1;32mIn[6], line 52\u001b[0m\n\u001b[0;32m     48\u001b[0m folder_path \u001b[38;5;241m=\u001b[39m \u001b[38;5;124mr\u001b[39m\u001b[38;5;124m\"\u001b[39m\u001b[38;5;124mC:\u001b[39m\u001b[38;5;124m\\\u001b[39m\u001b[38;5;124mUsers\u001b[39m\u001b[38;5;124m\\\u001b[39m\u001b[38;5;124mcarlf\u001b[39m\u001b[38;5;124m\\\u001b[39m\u001b[38;5;124mDocuments\u001b[39m\u001b[38;5;124m\\\u001b[39m\u001b[38;5;124mGitHub\u001b[39m\u001b[38;5;124m\\\u001b[39m\u001b[38;5;124mlyrics_generator\u001b[39m\u001b[38;5;124m\\\u001b[39m\u001b[38;5;124mdata\u001b[39m\u001b[38;5;124m\\\u001b[39m\u001b[38;5;124m01_raw\u001b[39m\u001b[38;5;124m\"\u001b[39m\n\u001b[0;32m     50\u001b[0m \u001b[38;5;28;01mfor\u001b[39;00m artist \u001b[38;5;129;01min\u001b[39;00m z:\n\u001b[0;32m     51\u001b[0m     \u001b[38;5;66;03m# Récupérer les paroles et les métadonnées de l'artiste\u001b[39;00m\n\u001b[1;32m---> 52\u001b[0m     artist_data \u001b[38;5;241m=\u001b[39m get_lyrics_with_metadata(artist, max_songs\u001b[38;5;241m=\u001b[39mmax_chansons)\n\u001b[0;32m     54\u001b[0m     \u001b[38;5;66;03m# Sauvegarder dans un fichier CSV spécifique à l'artiste\u001b[39;00m\n\u001b[0;32m     55\u001b[0m     save_artist_lyrics_to_csv(artist, artist_data, folder_path)\n",
      "Cell \u001b[1;32mIn[6], line 13\u001b[0m, in \u001b[0;36mget_lyrics_with_metadata\u001b[1;34m(artist_name, max_songs)\u001b[0m\n\u001b[0;32m     11\u001b[0m \u001b[38;5;28;01mdef\u001b[39;00m \u001b[38;5;21mget_lyrics_with_metadata\u001b[39m(artist_name, max_songs\u001b[38;5;241m=\u001b[39m\u001b[38;5;241m500\u001b[39m):\n\u001b[0;32m     12\u001b[0m     \u001b[38;5;28mprint\u001b[39m(\u001b[38;5;124mf\u001b[39m\u001b[38;5;124m\"\u001b[39m\u001b[38;5;124mRécupération des données pour : \u001b[39m\u001b[38;5;132;01m{\u001b[39;00martist_name\u001b[38;5;132;01m}\u001b[39;00m\u001b[38;5;124m\"\u001b[39m)\n\u001b[1;32m---> 13\u001b[0m     artist \u001b[38;5;241m=\u001b[39m genius\u001b[38;5;241m.\u001b[39msearch_artist(artist_name, max_songs\u001b[38;5;241m=\u001b[39mmax_songs, sort\u001b[38;5;241m=\u001b[39m\u001b[38;5;124m\"\u001b[39m\u001b[38;5;124mtitle\u001b[39m\u001b[38;5;124m\"\u001b[39m)\n\u001b[0;32m     14\u001b[0m     \u001b[38;5;28;01mif\u001b[39;00m artist \u001b[38;5;129;01mis\u001b[39;00m \u001b[38;5;28;01mNone\u001b[39;00m:\n\u001b[0;32m     15\u001b[0m         \u001b[38;5;28mprint\u001b[39m(\u001b[38;5;124mf\u001b[39m\u001b[38;5;124m\"\u001b[39m\u001b[38;5;124mAucun résultat trouvé pour \u001b[39m\u001b[38;5;132;01m{\u001b[39;00martist_name\u001b[38;5;132;01m}\u001b[39;00m\u001b[38;5;124m\"\u001b[39m)\n",
      "File \u001b[1;32mc:\\Users\\carlf\\anaconda3\\envs\\lyrics_genius\\Lib\\site-packages\\lyricsgenius\\genius.py:519\u001b[0m, in \u001b[0;36mGenius.search_artist\u001b[1;34m(self, artist_name, max_songs, sort, per_page, get_full_info, allow_name_change, artist_id, include_features)\u001b[0m\n\u001b[0;32m    516\u001b[0m     \u001b[38;5;28;01mreturn\u001b[39;00m found_artist[\u001b[38;5;124m'\u001b[39m\u001b[38;5;124mid\u001b[39m\u001b[38;5;124m'\u001b[39m]\n\u001b[0;32m    518\u001b[0m \u001b[38;5;66;03m# Get the artist ID (or use the one supplied)\u001b[39;00m\n\u001b[1;32m--> 519\u001b[0m artist_id \u001b[38;5;241m=\u001b[39m artist_id \u001b[38;5;28;01mif\u001b[39;00m artist_id \u001b[38;5;28;01melse\u001b[39;00m find_artist_id(artist_name)\n\u001b[0;32m    520\u001b[0m \u001b[38;5;28;01mif\u001b[39;00m \u001b[38;5;129;01mnot\u001b[39;00m artist_id:\n\u001b[0;32m    521\u001b[0m     \u001b[38;5;28;01mreturn\u001b[39;00m \u001b[38;5;28;01mNone\u001b[39;00m\n",
      "File \u001b[1;32mc:\\Users\\carlf\\anaconda3\\envs\\lyrics_genius\\Lib\\site-packages\\lyricsgenius\\genius.py:504\u001b[0m, in \u001b[0;36mGenius.search_artist.<locals>.find_artist_id\u001b[1;34m(search_term)\u001b[0m\n\u001b[0;32m    502\u001b[0m \u001b[38;5;66;03m# Perform a Genius API search for the artist\u001b[39;00m\n\u001b[0;32m    503\u001b[0m found_artist \u001b[38;5;241m=\u001b[39m \u001b[38;5;28;01mNone\u001b[39;00m\n\u001b[1;32m--> 504\u001b[0m response \u001b[38;5;241m=\u001b[39m \u001b[38;5;28mself\u001b[39m\u001b[38;5;241m.\u001b[39msearch_all(search_term)\n\u001b[0;32m    505\u001b[0m found_artist \u001b[38;5;241m=\u001b[39m \u001b[38;5;28mself\u001b[39m\u001b[38;5;241m.\u001b[39m_get_item_from_search_response(response,\n\u001b[0;32m    506\u001b[0m                                                    search_term,\n\u001b[0;32m    507\u001b[0m                                                    type_\u001b[38;5;241m=\u001b[39m\u001b[38;5;124m\"\u001b[39m\u001b[38;5;124martist\u001b[39m\u001b[38;5;124m\"\u001b[39m,\n\u001b[0;32m    508\u001b[0m                                                    result_type\u001b[38;5;241m=\u001b[39m\u001b[38;5;124m\"\u001b[39m\u001b[38;5;124mname\u001b[39m\u001b[38;5;124m\"\u001b[39m)\n\u001b[0;32m    510\u001b[0m \u001b[38;5;66;03m# Exit the search if we couldn't find an artist by the given name\u001b[39;00m\n",
      "File \u001b[1;32mc:\\Users\\carlf\\anaconda3\\envs\\lyrics_genius\\Lib\\site-packages\\lyricsgenius\\api\\public_methods\\search.py:210\u001b[0m, in \u001b[0;36mSearchMethods.search_all\u001b[1;34m(self, search_term, per_page, page)\u001b[0m\n\u001b[0;32m    188\u001b[0m \u001b[38;5;250m\u001b[39m\u001b[38;5;124;03m\"\"\"Searches all types.\u001b[39;00m\n\u001b[0;32m    189\u001b[0m \n\u001b[0;32m    190\u001b[0m \u001b[38;5;124;03mIncluding: albums, articles, lyrics, songs, users and\u001b[39;00m\n\u001b[1;32m   (...)\u001b[0m\n\u001b[0;32m    207\u001b[0m \n\u001b[0;32m    208\u001b[0m \u001b[38;5;124;03m\"\"\"\u001b[39;00m\n\u001b[0;32m    209\u001b[0m endpoint \u001b[38;5;241m=\u001b[39m \u001b[38;5;124m'\u001b[39m\u001b[38;5;124mmulti\u001b[39m\u001b[38;5;124m'\u001b[39m\n\u001b[1;32m--> 210\u001b[0m \u001b[38;5;28;01mreturn\u001b[39;00m \u001b[38;5;28mself\u001b[39m\u001b[38;5;241m.\u001b[39msearch(search_term, per_page, page, endpoint)\n",
      "File \u001b[1;32mc:\\Users\\carlf\\anaconda3\\envs\\lyrics_genius\\Lib\\site-packages\\lyricsgenius\\api\\public_methods\\search.py:45\u001b[0m, in \u001b[0;36mSearchMethods.search\u001b[1;34m(self, search_term, per_page, page, type_)\u001b[0m\n\u001b[0;32m     41\u001b[0m     path \u001b[38;5;241m=\u001b[39m \u001b[38;5;124m'\u001b[39m\u001b[38;5;124msearch/\u001b[39m\u001b[38;5;124m'\u001b[39m \u001b[38;5;241m+\u001b[39m type_\n\u001b[0;32m     42\u001b[0m params \u001b[38;5;241m=\u001b[39m {\u001b[38;5;124m'\u001b[39m\u001b[38;5;124mq\u001b[39m\u001b[38;5;124m'\u001b[39m: search_term,\n\u001b[0;32m     43\u001b[0m           \u001b[38;5;124m'\u001b[39m\u001b[38;5;124mper_page\u001b[39m\u001b[38;5;124m'\u001b[39m: per_page,\n\u001b[0;32m     44\u001b[0m           \u001b[38;5;124m'\u001b[39m\u001b[38;5;124mpage\u001b[39m\u001b[38;5;124m'\u001b[39m: page}\n\u001b[1;32m---> 45\u001b[0m \u001b[38;5;28;01mreturn\u001b[39;00m \u001b[38;5;28mself\u001b[39m\u001b[38;5;241m.\u001b[39m_make_request(path, params_\u001b[38;5;241m=\u001b[39mparams, public_api\u001b[38;5;241m=\u001b[39m\u001b[38;5;28;01mTrue\u001b[39;00m)\n",
      "File \u001b[1;32mc:\\Users\\carlf\\anaconda3\\envs\\lyrics_genius\\Lib\\site-packages\\lyricsgenius\\api\\base.py:88\u001b[0m, in \u001b[0;36mSender._make_request\u001b[1;34m(self, path, method, params_, public_api, web, **kwargs)\u001b[0m\n\u001b[0;32m     86\u001b[0m     error \u001b[38;5;241m=\u001b[39m get_description(e)\n\u001b[0;32m     87\u001b[0m     \u001b[38;5;28;01mif\u001b[39;00m response\u001b[38;5;241m.\u001b[39mstatus_code \u001b[38;5;241m<\u001b[39m \u001b[38;5;241m500\u001b[39m \u001b[38;5;129;01mor\u001b[39;00m tries \u001b[38;5;241m>\u001b[39m \u001b[38;5;28mself\u001b[39m\u001b[38;5;241m.\u001b[39mretries:\n\u001b[1;32m---> 88\u001b[0m         \u001b[38;5;28;01mraise\u001b[39;00m HTTPError(response\u001b[38;5;241m.\u001b[39mstatus_code, error) \u001b[38;5;28;01mfrom\u001b[39;00m \u001b[38;5;21;01me\u001b[39;00m\n\u001b[0;32m     90\u001b[0m \u001b[38;5;66;03m# Enforce rate limiting\u001b[39;00m\n\u001b[0;32m     91\u001b[0m time\u001b[38;5;241m.\u001b[39msleep(\u001b[38;5;28mself\u001b[39m\u001b[38;5;241m.\u001b[39msleep_time)\n",
      "\u001b[1;31mHTTPError\u001b[0m: [Errno 403] 403 Client Error: Forbidden for url: https://genius.com/api/search/multi?q=Rohff"
     ]
    }
   ],
   "source": [
    "import lyricsgenius\n",
    "import pandas as pd\n",
    "import os\n",
    "from tqdm import tqdm\n",
    "\n",
    "# Initialisation avec votre clé d'API Genius\n",
    "GENIUS_API_TOKEN = \"vEuhOt5S8b7JMcQuXZhlSNouoVIPQruY6a0bsie-lifgyPxsx_dPVzDSZools0pG\"\n",
    "genius = lyricsgenius.Genius(GENIUS_API_TOKEN)\n",
    "\n",
    "# Fonction pour récupérer les paroles et les métadonnées d'un artiste\n",
    "def get_lyrics_with_metadata(artist_name, max_songs=500):\n",
    "    print(f\"Récupération des données pour : {artist_name}\")\n",
    "    artist = genius.search_artist(artist_name, max_songs=max_songs, sort=\"title\")\n",
    "    if artist is None:\n",
    "        print(f\"Aucun résultat trouvé pour {artist_name}\")\n",
    "        return []\n",
    "\n",
    "    songs_data = []\n",
    "    for song in tqdm(artist.songs):\n",
    "        songs_data.append({\n",
    "            \"Artist\": artist_name,\n",
    "            \"Title\": song.title,\n",
    "            \"Lyrics\": song.lyrics\n",
    "        })\n",
    "\n",
    "    return songs_data\n",
    "\n",
    "# Sauvegarder les données pour un artiste dans un fichier CSV\n",
    "def save_artist_lyrics_to_csv(artist_name, data, folder_path):\n",
    "    # Créer le dossier s'il n'existe pas\n",
    "    os.makedirs(folder_path, exist_ok=True)\n",
    "    \n",
    "    # Construire le chemin du fichier CSV\n",
    "    file_path = os.path.join(folder_path, f\"{artist_name.replace(' ', '_')}_songs.csv\")\n",
    "    \n",
    "    # Sauvegarder les données dans un DataFrame\n",
    "    df = pd.DataFrame(data)\n",
    "    df.to_csv(file_path, index=False, encoding=\"utf-8\")\n",
    "    \n",
    "    print(f\"Fichier CSV sauvegardé pour {artist_name} à : {file_path}\")\n",
    "\n",
    "# Exemple d'utilisation\n",
    "if __name__ == \"__main__\":\n",
    "    # Liste des rappeurs\n",
    "    max_chansons = 800\n",
    "\n",
    "    # Chemin du dossier où sauvegarder les fichiers CSV\n",
    "    folder_path = r\"C:\\Users\\carlf\\Documents\\GitHub\\lyrics_generator\\data\\01_raw\"\n",
    "\n",
    "    for artist in z:\n",
    "        # Récupérer les paroles et les métadonnées de l'artiste\n",
    "        artist_data = get_lyrics_with_metadata(artist, max_songs=max_chansons)\n",
    "        \n",
    "        # Sauvegarder dans un fichier CSV spécifique à l'artiste\n",
    "        save_artist_lyrics_to_csv(artist, artist_data, folder_path)\n"
   ]
  },
  {
   "cell_type": "code",
   "execution_count": 9,
   "metadata": {},
   "outputs": [
    {
     "name": "stdout",
     "output_type": "stream",
     "text": [
      "L'année de sortie de 'FREESTYLE HORS SÉRIE' est : 2020\n"
     ]
    }
   ],
   "source": [
    "import requests\n",
    "\n",
    "def get_song_release_year(genius_api_key, song_title, artist_name):\n",
    "    base_url = \"https://api.genius.com\"\n",
    "    headers = {\"Authorization\": f\"Bearer {genius_api_key}\"}\n",
    "    \n",
    "    # Étape 1 : Rechercher la chanson\n",
    "    search_url = f\"{base_url}/search\"\n",
    "    params = {\"q\": f\"{song_title} {artist_name}\"}\n",
    "    response = requests.get(search_url, headers=headers, params=params)\n",
    "    search_results = response.json()\n",
    "    \n",
    "    # Vérification des résultats\n",
    "    if search_results.get(\"meta\", {}).get(\"status\") != 200:\n",
    "        print(\"Erreur lors de la recherche.\")\n",
    "        return None\n",
    "    \n",
    "    hits = search_results.get(\"response\", {}).get(\"hits\", [])\n",
    "    if not hits:\n",
    "        print(f\"Aucun résultat trouvé pour {song_title} de {artist_name}.\")\n",
    "        return None\n",
    "    \n",
    "    # On prend la première chanson trouvée\n",
    "    song_id = hits[0][\"result\"][\"id\"]\n",
    "    \n",
    "    # Étape 2 : Récupérer les détails de la chanson\n",
    "    song_url = f\"{base_url}/songs/{song_id}\"\n",
    "    song_response = requests.get(song_url, headers=headers)\n",
    "    song_data = song_response.json()\n",
    "    \n",
    "    # Vérifier les données de la chanson\n",
    "    if song_data.get(\"meta\", {}).get(\"status\") != 200:\n",
    "        print(f\"Erreur lors de la récupération des détails de la chanson {song_title}.\")\n",
    "        return None\n",
    "    \n",
    "    song_info = song_data.get(\"response\", {}).get(\"song\", {})\n",
    "    \n",
    "    # Extraire la date de sortie\n",
    "    release_date = song_info.get(\"release_date\")\n",
    "    if release_date:\n",
    "        return release_date.split(\"-\")[0]  # Extraire uniquement l'année\n",
    "    else:\n",
    "        print(f\"Aucune date de sortie trouvée pour {song_title}.\")\n",
    "        return \"Inconnu\"\n",
    "\n",
    "# Exemple d'utilisation\n",
    "genius_api_key = \"vEuhOt5S8b7JMcQuXZhlSNouoVIPQruY6a0bsie-lifgyPxsx_dPVzDSZools0pG\"\n",
    "song_title = \"FREESTYLE HORS SÉRIE\"\n",
    "artist_name = \"1PLIKÉ140\"\n",
    "\n",
    "year = get_song_release_year(genius_api_key, song_title, artist_name)\n",
    "print(f\"L'année de sortie de '{song_title}' est : {year}\")\n"
   ]
  },
  {
   "cell_type": "markdown",
   "metadata": {},
   "source": [
    "## First function we used with scraping"
   ]
  },
  {
   "cell_type": "code",
   "execution_count": 1,
   "metadata": {},
   "outputs": [],
   "source": [
    "import lyricsgenius as lg\n",
    "import requests\n",
    "import pandas as pd \n",
    "import random \n",
    "import time\n",
    "import os\n",
    "from tqdm import tqdm\n",
    "\n",
    "\n",
    "GENIUS_API_TOKEN = \"vEuhOt5S8b7JMcQuXZhlSNouoVIPQruY6a0bsie-lifgyPxsx_dPVzDSZools0pG\"\n",
    "genius = lg.Genius(GENIUS_API_TOKEN)\n",
    "\n",
    "\n",
    "def _extracted_from_get_artist_id_(search_url, artist_name):\n",
    "    headers = {'Authorization': 'Bearer ' + GENIUS_API_TOKEN}\n",
    "    response = requests.get(search_url, headers=headers, timeout=120)\n",
    "    response.raise_for_status()  # Vérifie les erreurs HTTP\n",
    "    data = response.json()\n",
    "\n",
    "    if 'response' in data and data['response']['hits']:\n",
    "        return data['response']['hits'][0]['result']['primary_artist']['id']\n",
    "    print(f\"Aucune donnée trouvée pour l'artiste: {artist_name}\")\n",
    "    return None\n",
    "\n",
    "def get_artist_id(artist_name):\n",
    "    \"\"\"Récupère l'ID d'un artiste en utilisant l'API Genius.\"\"\"\n",
    "    search_url = f\"https://api.genius.com/search?q={artist_name}\"\n",
    "    headers = {'Authorization': 'Bearer ' + GENIUS_API_TOKEN}\n",
    "\n",
    "    try:\n",
    "        return _extracted_from_get_artist_id_(search_url, artist_name)\n",
    "    except Exception as e:\n",
    "        print(f\"Erreur lors de la récupération de l'ID pour {artist_name}: {e}\")\n",
    "        return None\n",
    "\n",
    "def get_songs(artist_id, max_songs=500):\n",
    "    \"\"\"Récupère jusqu'à un nombre donné de chansons pour un artiste, triées par popularité.\"\"\"\n",
    "    songs = []\n",
    "    page = 1\n",
    "    \n",
    "    while len(songs) < max_songs:\n",
    "        url = f\"https://api.genius.com/artists/{artist_id}/songs?page={page}\"\n",
    "        headers = {'Authorization': 'Bearer ' + GENIUS_API_TOKEN}\n",
    "        response = requests.get(url, headers=headers).json()\n",
    "        songs_data = response['response']['songs']\n",
    "        \n",
    "        if not songs_data:\n",
    "            break  # Sortir si aucune chanson n'est trouvée\n",
    "\n",
    "        # Récupérer la popularité et ajouter les chansons à la liste\n",
    "        for song in songs_data:\n",
    "            if len(songs) < max_songs:  # Assurez-vous de ne pas dépasser max_songs\n",
    "                songs.append({\n",
    "                    'title': song['title'],\n",
    "                    'popularity': song.get('stats', {}).get('pageviews', 0)  # Exemple de mesure de popularité\n",
    "                })\n",
    "            else:\n",
    "                break  # Sortir de la boucle for si le maximum est atteint\n",
    "\n",
    "        page += 1  # Passer à la page suivante\n",
    "        time.sleep(random.uniform(1,3))\n",
    "        \n",
    "    # Trier manuellement par popularité\n",
    "    sorted_songs = sorted(songs, key=lambda x: x['popularity'], reverse=True)\n",
    "    return [song['title'] for song in sorted_songs[:max_songs]]  # Limiter le retour à max_songs\n",
    "\n",
    "def download_lyrics(song_title, artist_name):\n",
    "    \"\"\"Télécharge les paroles d'une chanson donnée.\"\"\"\n",
    "\n",
    "    if song := genius.search_song(song_title, artist_name):\n",
    "        try :\n",
    "            paroles = song.lyrics\n",
    "        except Exception as e :\n",
    "            print(f\"Erreur lors de la récupération des paroles : {e}\")\n",
    "            return None\n",
    "\n",
    "        return paroles, artist_name, song_title\n",
    "    return None\n",
    "\n",
    "def all_artist_songs(artist_to_scrape):\n",
    "    \"\"\"Télécharge les paroles de toutes les chansons pour chaque artiste et les stocke dans un fichier CSV par artiste.\"\"\"\n",
    "    for artist in artist_to_scrape:\n",
    "        artist_id = get_artist_id(artist)\n",
    "        if artist_id is None:\n",
    "            print(f\"ID d'artiste non trouvé pour {artist}\")\n",
    "\n",
    "        elif songs := get_songs(artist_id):\n",
    "            # Créer un répertoire pour l'artiste si il n'existe pas\n",
    "            os.makedirs(r\"C:/Users/carlf/Documents/GitHub/lyrics_generator/data/01_raw\", exist_ok=True)\n",
    "            artist_lyrics = [] \n",
    "            for song in tqdm(songs):\n",
    "                if lyrics_info := download_lyrics(song, artist):\n",
    "                    lyrics, artist, song = lyrics_info\n",
    "                    artist_lyrics.append({\n",
    "                        'Artist': artist,\n",
    "                        'Title': song,\n",
    "                        'Lyrics': lyrics\n",
    "                    }) \n",
    "                    # print(f\"Téléchargé : {song} de {artist}\")\n",
    "                    sleep_time = random.uniform(0.3,0.65)\n",
    "                    # print(f\"Sleeping for {sleep_time:.2f} seconds before the next download...\")\n",
    "                    time.sleep(sleep_time)\n",
    "                else:\n",
    "                    print(f\"Paroles non trouvées pour {song} de {artist}\")\n",
    "\n",
    "            df = pd.DataFrame(artist_lyrics)\n",
    "            # Enregistrer le DataFrame dans un fichier CSV\n",
    "            df.to_csv(rf\"C:/Users/carlf/Documents/GitHub/lyrics_generator/data/01_raw/{artist}_songs.csv\", index=False, encoding='utf-8')\n",
    "            print(f\"Fichier créé : {artist}_songs.csv\")\n",
    "        else:\n",
    "            print(f\"Aucune chanson trouvée pour {artist}\")\n",
    "\n"
   ]
  },
  {
   "cell_type": "code",
   "execution_count": 21,
   "metadata": {},
   "outputs": [],
   "source": [
    "z = [\"Fonky Family\",\"IAM\", \"Sexion d'assaut\", \"Medine\", \"Ziak\",\"Chily\", \"113 clan\",\"Anthony Kazadi\" \"Casseurs Flowters\", \"El Matador\", \"Zola\", \"Gato\", \"Soprano\", \"Akhenaton\", \"Nepal\", \"Maes\" \"Leto\", \"Josman\", \"Naps\",\"Lino\",\"Disiz\", \"Ninho\",\"Alkpote\",\"Orelsan\", \"Gazo\", \"Kerchak\", \"Fave\", \"Jul\", \"Larry\", \"Siboy\", \"MHD\", \"Soolking\",\"Kekra\", \"Kaaris\",\"Medine\",\"Lomepal\",\"SCH\", \"Caballero & JeanJass\", \"Laylow\",\"Youssoupha\", \"Vald\", \"Dinos\",\"Fianso\", \"Dosseh\", \"Diam's\",\"Lefa\",\"Despo Rutti\", \"Hamza\",\"Krisy\",\"Tusiano\",\"Casey\",\"Kalash\",\"Roméo Elvis\",\"Rohff\",\"PLK\", \"Menace Santana\",\"13 Block\", \"O'boy\",\"Sneazzy\", \"DTF\",\"Sadek\",\"Lesram\", \"Kodes\",\"Diddy Trix\",\"Gambi\", \"LuvResval\", \"Werenoi\", \"Green Santana\",\"M.I.G\", \"Zequin\", \"SDM\",\"Youv Dee\", \"Ash Kidd\", \"Lyonzon\", ]\n",
    "# e = 0\n",
    "# for i in z :\n",
    "#     e +=1\n",
    "# print(e)"
   ]
  },
  {
   "cell_type": "code",
   "execution_count": 20,
   "metadata": {},
   "outputs": [],
   "source": [
    "z = [\"Gazo\", \"Kerchak\", \"Fave\", \"Jul\", \"Larry\", \"Siboy\", \"MHD\", \"Soolking\",\"Kekra\", \"Kaaris\",\"Medine\",\"Lomepal\",\"SCH\", \"Caballero & JeanJass\", \"Laylow\",\"Youssoupha\", \"Vald\", \"Dinos\",\"Fianso\", \"Dosseh\", \"Diam's\",\"Lefa\",\"Despo Rutti\", \"Hamza\",\"Krisy\",\"Tusiano\",\"Casey\",\"Kalash\",\"Roméo Elvis\",\"Rohff\",\"PLK\", \"Menace Santana\",\"13 Block\", \"O'boy\",\"Sneazzy\", \"DTF\",\"Sadek\",\"Lesram\", \"Kodes\",\"Diddy Trix\",\"Gambi\", \"LuvResval\", \"Werenoi\", \"Green Santana\",\"M.I.G\", \"Zequin\", \"SDM\",\"Youv Dee\", \"Ash Kidd\", \"Lyonzon\", ]"
   ]
  },
  {
   "cell_type": "code",
   "execution_count": 2,
   "metadata": {},
   "outputs": [],
   "source": [
    "z = [\"Elio Menais\", \"Rohff\"]"
   ]
  },
  {
   "cell_type": "code",
   "execution_count": 4,
   "metadata": {},
   "outputs": [
    {
     "name": "stderr",
     "output_type": "stream",
     "text": [
      "  0%|          | 0/99 [00:00<?, ?it/s]"
     ]
    },
    {
     "name": "stdout",
     "output_type": "stream",
     "text": [
      "Searching for \"24 Hour\" by Elio Menais...\n"
     ]
    },
    {
     "name": "stderr",
     "output_type": "stream",
     "text": [
      "  0%|          | 0/99 [00:03<?, ?it/s]\n"
     ]
    },
    {
     "ename": "HTTPError",
     "evalue": "[Errno 403] 403 Client Error: Forbidden for url: https://genius.com/api/search/multi?q=24+Hour+Elio+Menais",
     "output_type": "error",
     "traceback": [
      "\u001b[1;31m---------------------------------------------------------------------------\u001b[0m",
      "\u001b[1;31mHTTPError\u001b[0m                                 Traceback (most recent call last)",
      "File \u001b[1;32mc:\\Users\\carlf\\anaconda3\\envs\\lyrics_genius\\Lib\\site-packages\\lyricsgenius\\api\\base.py:80\u001b[0m, in \u001b[0;36mSender._make_request\u001b[1;34m(self, path, method, params_, public_api, web, **kwargs)\u001b[0m\n\u001b[0;32m     75\u001b[0m     response \u001b[38;5;241m=\u001b[39m \u001b[38;5;28mself\u001b[39m\u001b[38;5;241m.\u001b[39m_session\u001b[38;5;241m.\u001b[39mrequest(method, uri,\n\u001b[0;32m     76\u001b[0m                                      timeout\u001b[38;5;241m=\u001b[39m\u001b[38;5;28mself\u001b[39m\u001b[38;5;241m.\u001b[39mtimeout,\n\u001b[0;32m     77\u001b[0m                                      params\u001b[38;5;241m=\u001b[39mparams_,\n\u001b[0;32m     78\u001b[0m                                      headers\u001b[38;5;241m=\u001b[39mheader,\n\u001b[0;32m     79\u001b[0m                                      \u001b[38;5;241m*\u001b[39m\u001b[38;5;241m*\u001b[39mkwargs)\n\u001b[1;32m---> 80\u001b[0m     response\u001b[38;5;241m.\u001b[39mraise_for_status()\n\u001b[0;32m     81\u001b[0m \u001b[38;5;28;01mexcept\u001b[39;00m Timeout \u001b[38;5;28;01mas\u001b[39;00m e:\n",
      "File \u001b[1;32mc:\\Users\\carlf\\anaconda3\\envs\\lyrics_genius\\Lib\\site-packages\\requests\\models.py:1024\u001b[0m, in \u001b[0;36mResponse.raise_for_status\u001b[1;34m(self)\u001b[0m\n\u001b[0;32m   1023\u001b[0m \u001b[38;5;28;01mif\u001b[39;00m http_error_msg:\n\u001b[1;32m-> 1024\u001b[0m     \u001b[38;5;28;01mraise\u001b[39;00m HTTPError(http_error_msg, response\u001b[38;5;241m=\u001b[39m\u001b[38;5;28mself\u001b[39m)\n",
      "\u001b[1;31mHTTPError\u001b[0m: 403 Client Error: Forbidden for url: https://genius.com/api/search/multi?q=24+Hour+Elio+Menais",
      "\nThe above exception was the direct cause of the following exception:\n",
      "\u001b[1;31mHTTPError\u001b[0m                                 Traceback (most recent call last)",
      "Cell \u001b[1;32mIn[4], line 1\u001b[0m\n\u001b[1;32m----> 1\u001b[0m all_artist_songs(z)\n",
      "Cell \u001b[1;32mIn[1], line 92\u001b[0m, in \u001b[0;36mall_artist_songs\u001b[1;34m(artist_to_scrape)\u001b[0m\n\u001b[0;32m     90\u001b[0m artist_lyrics \u001b[38;5;241m=\u001b[39m [] \n\u001b[0;32m     91\u001b[0m \u001b[38;5;28;01mfor\u001b[39;00m song \u001b[38;5;129;01min\u001b[39;00m tqdm(songs):\n\u001b[1;32m---> 92\u001b[0m     \u001b[38;5;28;01mif\u001b[39;00m lyrics_info \u001b[38;5;241m:=\u001b[39m download_lyrics(song, artist):\n\u001b[0;32m     93\u001b[0m         lyrics, artist, song \u001b[38;5;241m=\u001b[39m lyrics_info\n\u001b[0;32m     94\u001b[0m         artist_lyrics\u001b[38;5;241m.\u001b[39mappend({\n\u001b[0;32m     95\u001b[0m             \u001b[38;5;124m'\u001b[39m\u001b[38;5;124mArtist\u001b[39m\u001b[38;5;124m'\u001b[39m: artist,\n\u001b[0;32m     96\u001b[0m             \u001b[38;5;124m'\u001b[39m\u001b[38;5;124mTitle\u001b[39m\u001b[38;5;124m'\u001b[39m: song,\n\u001b[0;32m     97\u001b[0m             \u001b[38;5;124m'\u001b[39m\u001b[38;5;124mLyrics\u001b[39m\u001b[38;5;124m'\u001b[39m: lyrics\n\u001b[0;32m     98\u001b[0m         }) \n",
      "Cell \u001b[1;32mIn[1], line 70\u001b[0m, in \u001b[0;36mdownload_lyrics\u001b[1;34m(song_title, artist_name)\u001b[0m\n\u001b[0;32m     67\u001b[0m \u001b[38;5;28;01mdef\u001b[39;00m \u001b[38;5;21mdownload_lyrics\u001b[39m(song_title, artist_name):\n\u001b[0;32m     68\u001b[0m \u001b[38;5;250m    \u001b[39m\u001b[38;5;124;03m\"\"\"Télécharge les paroles d'une chanson donnée.\"\"\"\u001b[39;00m\n\u001b[1;32m---> 70\u001b[0m     \u001b[38;5;28;01mif\u001b[39;00m song \u001b[38;5;241m:=\u001b[39m genius\u001b[38;5;241m.\u001b[39msearch_song(song_title, artist_name):\n\u001b[0;32m     71\u001b[0m         \u001b[38;5;28;01mtry\u001b[39;00m :\n\u001b[0;32m     72\u001b[0m             paroles \u001b[38;5;241m=\u001b[39m song\u001b[38;5;241m.\u001b[39mlyrics\n",
      "File \u001b[1;32mc:\\Users\\carlf\\anaconda3\\envs\\lyrics_genius\\Lib\\site-packages\\lyricsgenius\\genius.py:402\u001b[0m, in \u001b[0;36mGenius.search_song\u001b[1;34m(self, title, artist, song_id, get_full_info)\u001b[0m\n\u001b[0;32m    400\u001b[0m \u001b[38;5;28;01melse\u001b[39;00m:\n\u001b[0;32m    401\u001b[0m     search_term \u001b[38;5;241m=\u001b[39m \u001b[38;5;124m\"\u001b[39m\u001b[38;5;132;01m{s}\u001b[39;00m\u001b[38;5;124m \u001b[39m\u001b[38;5;132;01m{a}\u001b[39;00m\u001b[38;5;124m\"\u001b[39m\u001b[38;5;241m.\u001b[39mformat(s\u001b[38;5;241m=\u001b[39mtitle, a\u001b[38;5;241m=\u001b[39martist)\u001b[38;5;241m.\u001b[39mstrip()\n\u001b[1;32m--> 402\u001b[0m     search_response \u001b[38;5;241m=\u001b[39m \u001b[38;5;28mself\u001b[39m\u001b[38;5;241m.\u001b[39msearch_all(search_term)\n\u001b[0;32m    403\u001b[0m     song_info \u001b[38;5;241m=\u001b[39m \u001b[38;5;28mself\u001b[39m\u001b[38;5;241m.\u001b[39m_get_item_from_search_response(search_response,\n\u001b[0;32m    404\u001b[0m                                                     title,\n\u001b[0;32m    405\u001b[0m                                                     type_\u001b[38;5;241m=\u001b[39m\u001b[38;5;124m\"\u001b[39m\u001b[38;5;124msong\u001b[39m\u001b[38;5;124m\"\u001b[39m,\n\u001b[0;32m    406\u001b[0m                                                     result_type\u001b[38;5;241m=\u001b[39m\u001b[38;5;124m\"\u001b[39m\u001b[38;5;124mtitle\u001b[39m\u001b[38;5;124m\"\u001b[39m)\n\u001b[0;32m    408\u001b[0m \u001b[38;5;66;03m# Exit search if there were no results returned from API\u001b[39;00m\n\u001b[0;32m    409\u001b[0m \u001b[38;5;66;03m# Otherwise, move forward with processing the search results\u001b[39;00m\n",
      "File \u001b[1;32mc:\\Users\\carlf\\anaconda3\\envs\\lyrics_genius\\Lib\\site-packages\\lyricsgenius\\api\\public_methods\\search.py:210\u001b[0m, in \u001b[0;36mSearchMethods.search_all\u001b[1;34m(self, search_term, per_page, page)\u001b[0m\n\u001b[0;32m    188\u001b[0m \u001b[38;5;250m\u001b[39m\u001b[38;5;124;03m\"\"\"Searches all types.\u001b[39;00m\n\u001b[0;32m    189\u001b[0m \n\u001b[0;32m    190\u001b[0m \u001b[38;5;124;03mIncluding: albums, articles, lyrics, songs, users and\u001b[39;00m\n\u001b[1;32m   (...)\u001b[0m\n\u001b[0;32m    207\u001b[0m \n\u001b[0;32m    208\u001b[0m \u001b[38;5;124;03m\"\"\"\u001b[39;00m\n\u001b[0;32m    209\u001b[0m endpoint \u001b[38;5;241m=\u001b[39m \u001b[38;5;124m'\u001b[39m\u001b[38;5;124mmulti\u001b[39m\u001b[38;5;124m'\u001b[39m\n\u001b[1;32m--> 210\u001b[0m \u001b[38;5;28;01mreturn\u001b[39;00m \u001b[38;5;28mself\u001b[39m\u001b[38;5;241m.\u001b[39msearch(search_term, per_page, page, endpoint)\n",
      "File \u001b[1;32mc:\\Users\\carlf\\anaconda3\\envs\\lyrics_genius\\Lib\\site-packages\\lyricsgenius\\api\\public_methods\\search.py:45\u001b[0m, in \u001b[0;36mSearchMethods.search\u001b[1;34m(self, search_term, per_page, page, type_)\u001b[0m\n\u001b[0;32m     41\u001b[0m     path \u001b[38;5;241m=\u001b[39m \u001b[38;5;124m'\u001b[39m\u001b[38;5;124msearch/\u001b[39m\u001b[38;5;124m'\u001b[39m \u001b[38;5;241m+\u001b[39m type_\n\u001b[0;32m     42\u001b[0m params \u001b[38;5;241m=\u001b[39m {\u001b[38;5;124m'\u001b[39m\u001b[38;5;124mq\u001b[39m\u001b[38;5;124m'\u001b[39m: search_term,\n\u001b[0;32m     43\u001b[0m           \u001b[38;5;124m'\u001b[39m\u001b[38;5;124mper_page\u001b[39m\u001b[38;5;124m'\u001b[39m: per_page,\n\u001b[0;32m     44\u001b[0m           \u001b[38;5;124m'\u001b[39m\u001b[38;5;124mpage\u001b[39m\u001b[38;5;124m'\u001b[39m: page}\n\u001b[1;32m---> 45\u001b[0m \u001b[38;5;28;01mreturn\u001b[39;00m \u001b[38;5;28mself\u001b[39m\u001b[38;5;241m.\u001b[39m_make_request(path, params_\u001b[38;5;241m=\u001b[39mparams, public_api\u001b[38;5;241m=\u001b[39m\u001b[38;5;28;01mTrue\u001b[39;00m)\n",
      "File \u001b[1;32mc:\\Users\\carlf\\anaconda3\\envs\\lyrics_genius\\Lib\\site-packages\\lyricsgenius\\api\\base.py:88\u001b[0m, in \u001b[0;36mSender._make_request\u001b[1;34m(self, path, method, params_, public_api, web, **kwargs)\u001b[0m\n\u001b[0;32m     86\u001b[0m     error \u001b[38;5;241m=\u001b[39m get_description(e)\n\u001b[0;32m     87\u001b[0m     \u001b[38;5;28;01mif\u001b[39;00m response\u001b[38;5;241m.\u001b[39mstatus_code \u001b[38;5;241m<\u001b[39m \u001b[38;5;241m500\u001b[39m \u001b[38;5;129;01mor\u001b[39;00m tries \u001b[38;5;241m>\u001b[39m \u001b[38;5;28mself\u001b[39m\u001b[38;5;241m.\u001b[39mretries:\n\u001b[1;32m---> 88\u001b[0m         \u001b[38;5;28;01mraise\u001b[39;00m HTTPError(response\u001b[38;5;241m.\u001b[39mstatus_code, error) \u001b[38;5;28;01mfrom\u001b[39;00m \u001b[38;5;21;01me\u001b[39;00m\n\u001b[0;32m     90\u001b[0m \u001b[38;5;66;03m# Enforce rate limiting\u001b[39;00m\n\u001b[0;32m     91\u001b[0m time\u001b[38;5;241m.\u001b[39msleep(\u001b[38;5;28mself\u001b[39m\u001b[38;5;241m.\u001b[39msleep_time)\n",
      "\u001b[1;31mHTTPError\u001b[0m: [Errno 403] 403 Client Error: Forbidden for url: https://genius.com/api/search/multi?q=24+Hour+Elio+Menais"
     ]
    }
   ],
   "source": [
    "all_artist_songs(z)"
   ]
  }
 ],
 "metadata": {
  "kernelspec": {
   "display_name": "Python 3",
   "language": "python",
   "name": "python3"
  },
  "language_info": {
   "codemirror_mode": {
    "name": "ipython",
    "version": 3
   },
   "file_extension": ".py",
   "mimetype": "text/x-python",
   "name": "python",
   "nbconvert_exporter": "python",
   "pygments_lexer": "ipython3",
   "version": "3.12.7"
  }
 },
 "nbformat": 4,
 "nbformat_minor": 2
}
